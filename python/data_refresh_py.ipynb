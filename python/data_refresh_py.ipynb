{
  "cells": [
    {
      "cell_type": "raw",
      "metadata": {},
      "source": [
        "---\n",
        "title: EIA API - Data Refrsh\n",
        "format:\n",
        "  html:\n",
        "    code-fold: false\n",
        "---"
      ],
      "id": "ef17ff8b"
    },
    {
      "cell_type": "markdown",
      "metadata": {},
      "source": [
        "## Load libraries\n"
      ],
      "id": "a2c797a4"
    },
    {
      "cell_type": "code",
      "metadata": {},
      "source": [
        "import eia_api as api\n",
        "import eia_data \n",
        "import pandas as pd\n",
        "import numpy as np\n",
        "import requests\n",
        "import json\n",
        "import os\n",
        "import datetime\n",
        "import plotly.express as px\n",
        "import great_tables as gt"
      ],
      "id": "9361d1a5",
      "execution_count": null,
      "outputs": []
    },
    {
      "cell_type": "markdown",
      "metadata": {},
      "source": [
        "API Settings:"
      ],
      "id": "6345d824"
    },
    {
      "cell_type": "code",
      "metadata": {},
      "source": [
        "raw_json = open(\"../metadata/series.json\")\n",
        "meta_json = json.load(raw_json)\n",
        "series = pd.DataFrame(meta_json[\"series\"])\n",
        "api_path = meta_json[\"api_path\"]\n",
        "\n",
        "facets_template = {\n",
        "  \"parent\" : None,\n",
        "  \"subba\" : None\n",
        "}\n",
        "\n",
        "offset = 2250\n",
        "\n",
        "eia_api_key = os.getenv('EIA_API_KEY')\n",
        "\n",
        "meta_path = \"../metadata/ciso_log_py.csv\"\n",
        "data_path = \"../csv/ciso_grid_py.csv\""
      ],
      "id": "a4b2c0b5",
      "execution_count": null,
      "outputs": []
    },
    {
      "cell_type": "code",
      "metadata": {},
      "source": [
        "# api_metadata = api.eia_metadata(api_key = eia_api_key, api_path = api_path)\n",
        "\n",
        "\n",
        "# print(api_metadata.meta[\"endPeriod\"])\n",
        "# end = pd.to_datetime(api_metadata.meta[\"endPeriod\"])\n",
        "# print(end)"
      ],
      "id": "8d3d66c0",
      "execution_count": null,
      "outputs": []
    },
    {
      "cell_type": "code",
      "metadata": {},
      "source": [
        "meta_obj = eia_data.get_metadata(api_key = eia_api_key, api_path = api_path, meta_path = meta_path, series = series)"
      ],
      "id": "37e18ca5",
      "execution_count": null,
      "outputs": []
    },
    {
      "cell_type": "code",
      "metadata": {},
      "source": [
        "m = meta_obj.request_meta\n",
        "index = meta_obj.last_index + 1\n",
        "data = None\n",
        "for i in m.index:\n",
        "\n",
        "    facets = facets_template\n",
        "    facets[\"parent\"] = m.at[i, \"parent\"]\n",
        "    facets[\"subba\"] = m.at[i, \"subba\"]\n",
        "    start = m.at[i, \"request_start\"]\n",
        "    end = m.at[i, \"end\"]\n",
        "\n",
        "    print(facets)\n",
        "    if m.at[i, \"updates_available\"]:\n",
        "        temp = api.eia_backfill(api_key = eia_api_key, \n",
        "            api_path = api_path+ \"data\", \n",
        "            facets = facets, \n",
        "            start = start.to_pydatetime(),\n",
        "            end = end.to_pydatetime(),\n",
        "            offset = offset) \n",
        "\n",
        "        ts_obj = pd.DataFrame(np.arange(start = start, stop = end + datetime.timedelta(hours = 1), step = datetime.timedelta(hours = 1)).astype(datetime.datetime), columns=[\"index\"])\n",
        "        ts_obj  = ts_obj.merge(temp.data, left_on = \"index\", right_on = \"period\", how=\"left\")\n",
        "        ts_obj.drop(\"period\", axis = 1, inplace= True)\n",
        "        ts_obj = ts_obj.rename(columns= {\"index\": \"period\"})\n",
        "    else:\n",
        "        ts_obj = None\n",
        "        print(\"No new data is available\")\n",
        "\n",
        "    meta_temp = eia_data.create_metadata(data = ts_obj, start = start, end = end, type = \"refresh\")\n",
        "\n",
        "    if ts_obj is None:\n",
        "        meta_temp[\"parent\"] =  m.at[i, \"parent\"]\n",
        "        meta_temp[\"subba\"] =  m.at[i, \"subba\"]\n",
        "\n",
        "\n",
        "    if meta_temp[\"success\"]:\n",
        "        d = eia_data.append_data(data_path = data_path, new_data = ts_obj, save = True)\n",
        "        meta_temp[\"update\"] = True\n",
        "    else:\n",
        "        meta_temp[\"update\"] = False\n",
        "        meta_temp[\"comments\"] = meta_temp[\"comments\"] + \"The data refresh failed, please check the log; \"\n",
        "\n",
        "    meta_df = pd.DataFrame([meta_temp])\n",
        "    \n",
        "    if data is None:\n",
        "        data = ts_obj\n",
        "    else:\n",
        "        data = data._append(ts_obj)\n",
        "\n",
        "    if i == series.index.start:\n",
        "        meta_new = meta_df\n",
        "    else:\n",
        "        meta_new = meta_new._append(meta_df)"
      ],
      "id": "729d40bd",
      "execution_count": null,
      "outputs": []
    },
    {
      "cell_type": "code",
      "metadata": {},
      "source": [
        "gt.GT(meta_new,rowname_col = \"index\")"
      ],
      "id": "7dac339b",
      "execution_count": null,
      "outputs": []
    },
    {
      "cell_type": "code",
      "metadata": {},
      "source": [
        "meta_updated = eia_data.append_metadata(meta_path = meta_path, meta = meta_new, save = True, init = False)"
      ],
      "id": "81be8b11",
      "execution_count": null,
      "outputs": []
    },
    {
      "cell_type": "markdown",
      "metadata": {},
      "source": [
        "### Plot the Series\n",
        "\n",
        "We will use Plotly to visualize the series:\n"
      ],
      "id": "362ed199"
    },
    {
      "cell_type": "code",
      "metadata": {},
      "source": [
        "if data is not None:\n",
        "    d = data.sort_values(by = [\"subba\", \"period\"])\n",
        "    p = px.line(data, x=\"period\", y=\"value\", color=\"subba\")\n",
        "    p.show()\n",
        "else: \n",
        "    print(\"No new data is available\")"
      ],
      "id": "7db31d4f",
      "execution_count": null,
      "outputs": []
    },
    {
      "cell_type": "code",
      "metadata": {},
      "source": [
        "full_data = pd.read_csv(data_path)\n",
        "full_data.head()\n",
        "\n",
        "full_data[\"period\"] = pd.to_datetime(full_data[\"period\"])\n",
        "p = px.line(full_data, x=\"period\", y=\"value\", color=\"subba\")\n",
        "p.show()"
      ],
      "id": "cc1e8144",
      "execution_count": null,
      "outputs": []
    }
  ],
  "metadata": {
    "kernelspec": {
      "name": "python3",
      "language": "python",
      "display_name": "Python 3 (ipykernel)"
    }
  },
  "nbformat": 4,
  "nbformat_minor": 5
}